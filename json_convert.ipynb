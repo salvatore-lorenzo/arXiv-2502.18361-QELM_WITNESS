{
 "cells": [
  {
   "cell_type": "code",
   "execution_count": 1,
   "metadata": {},
   "outputs": [],
   "source": [
    "import os\n",
    "import re\n",
    "\n",
    "import pickle\n",
    "import json\n",
    "\n",
    "import numpy as np\n",
    "\n",
    "import pandas as pd"
   ]
  },
  {
   "cell_type": "code",
   "execution_count": 2,
   "metadata": {},
   "outputs": [],
   "source": [
    "folders = ['01_09','01_21','11_21','12_12','09_02','11_29']"
   ]
  },
  {
   "cell_type": "code",
   "execution_count": 3,
   "metadata": {},
   "outputs": [
    {
     "data": {
      "text/plain": [
       "[5, 4, 6, 6, 3, 5]"
      ]
     },
     "execution_count": 3,
     "metadata": {},
     "output_type": "execute_result"
    }
   ],
   "source": [
    "repetitions =[]\n",
    "for fold in folders:\n",
    "    repetitions = repetitions+[sum(1 for sub in os.listdir(fold) if sub.startswith('Ripetizione_'))]\n",
    "repetitions\n"
   ]
  },
  {
   "cell_type": "code",
   "execution_count": 6,
   "metadata": {},
   "outputs": [],
   "source": [
    "for nn,fold in enumerate(folders):\n",
    "    reps=repetitions[nn]\n",
    "\n",
    "    data_sep = [None] * reps\n",
    "    dataRAW_sep = [None] * reps\n",
    "    data_ent = [None] * reps\n",
    "    dataRAW_ent = [None] * reps\n",
    "    for rep in range(reps):\n",
    "        sepdir = fold + \"/Ripetizione_\" + str(rep) + \"/Separabili/\"\n",
    "        entdir = fold + \"/Ripetizione_\"+ str(rep) + \"/Entangled/\"\n",
    "\n",
    "        data_sep[rep] = []\n",
    "        dataRAW_sep[rep] = []\n",
    "\n",
    "        for filename in os.listdir(sepdir):\n",
    "            if filename.endswith(\".pickle\"):\n",
    "                file_path = os.path.join(sepdir, filename)\n",
    "                df = pd.read_pickle(file_path)\n",
    "                data_sep[rep].append(df)\n",
    "                filename = os.path.splitext(filename)[0]\n",
    "                filename = filename + \"_raw.pickle\"\n",
    "                file_path = os.path.join(sepdir+\"Raw/\", filename)\n",
    "                num_st = int(re.search(r'Dataset_Quantum_stato_(\\d+)_ent_0', filename).group(1))\n",
    "                df = pd.json_normalize(pd.read_pickle(file_path)['Raw_data'])\n",
    "                df.insert(0, 'State', num_st)\n",
    "                dataRAW_sep[rep].append(df)\n",
    "\n",
    "\n",
    "        data_ent[rep] = []\n",
    "        dataRAW_ent[rep] = []\n",
    "\n",
    "        for filename in os.listdir(entdir):\n",
    "            if filename.endswith(\".pickle\"):\n",
    "                file_path = os.path.join(entdir, filename)\n",
    "                df = pd.read_pickle(file_path)\n",
    "                data_ent[rep].append(df)\n",
    "                filename = os.path.splitext(filename)[0]\n",
    "                filename = filename + \"_raw.pickle\"\n",
    "                file_path = os.path.join(entdir+\"Raw/\", filename)\n",
    "                num_st = int(re.search(r'Dataset_Quantum_stato_(\\d+)_ent_1', filename).group(1))\n",
    "                df = pd.json_normalize(pd.read_pickle(file_path)['Raw_data'])\n",
    "                df.insert(0, 'State', num_st)\n",
    "                dataRAW_ent[rep].append(df)\n",
    "\n",
    "        data_sep[rep] = pd.concat(data_sep[rep], ignore_index=True)\n",
    "        dataRAW_sep[rep] = pd.concat(dataRAW_sep[rep], ignore_index=True)\n",
    "        data_ent[rep] = pd.concat(data_ent[rep], ignore_index=True)\n",
    "        dataRAW_ent[rep] = pd.concat(dataRAW_ent[rep], ignore_index=True)\n",
    "        # export data_sep[rep] and data_ent[rep] to json\n",
    "        data_sep[rep].to_json(\"./Separabili_\" + str(fold) + \"_rep_\" + str(rep)+ \".json\")\n",
    "        data_ent[rep].to_json( \"./Entangled_\" + str(fold) + \"_rep_\" + str(rep)+ \".json\")\n",
    "        dataRAW_sep[rep].to_json(\"./SeparabiliRAW_\" + str(fold) + \"_rep_\" + str(rep)+ \".json\")\n",
    "        dataRAW_ent[rep].to_json( \"./EntangledRAW_\" + str(fold) + \"_rep_\" + str(rep)+ \".json\")\n"
   ]
  },
  {
   "cell_type": "code",
   "execution_count": null,
   "metadata": {},
   "outputs": [],
   "source": []
  }
 ],
 "metadata": {
  "kernelspec": {
   "display_name": "myenv",
   "language": "python",
   "name": "python3"
  },
  "language_info": {
   "codemirror_mode": {
    "name": "ipython",
    "version": 3
   },
   "file_extension": ".py",
   "mimetype": "text/x-python",
   "name": "python",
   "nbconvert_exporter": "python",
   "pygments_lexer": "ipython3",
   "version": "3.11.8"
  }
 },
 "nbformat": 4,
 "nbformat_minor": 2
}
